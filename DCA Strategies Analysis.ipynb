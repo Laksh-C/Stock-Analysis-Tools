{
 "cells": [
  {
   "cell_type": "markdown",
   "id": "253a574b-ec75-4ba0-ad90-84eb4c602ef9",
   "metadata": {},
   "source": [
    "# DCA Strategies Program\n",
    "\n",
    "## Synopsis\n",
    "* This program is to see what DCA (dollar cost averaging) investing frequency yields the greatest return on various stocks.\n",
    "\n",
    "## How to use this program\n",
    "* Remove the \"#\" in front of python```!pip install yfinance``` in the next cell and begin running the cells\n",
    "* in order to generate the data for a specific stock, define a variable using the python```getMaxData() function```\n",
    "* Enter the exact ticker name in quotations into the python```getMaxData()``` function (search up on yahoo finance if needed)\n",
    "* To analyze the data, call the python```DCA()``` function. Enter the data from the previously defined variable. There are also options to define parameters for the interval and investment.\n",
    "* The interval parameter has options for \"D\" for daily investment,  \"W\" for weekly investments, \"2W\" for biweekly investments, and \"M\" for monthly investments.\n",
    "* The investment parameter is the total annual investment you would like to make.\n",
    "\n",
    "- Please note that there are exactly 12 equal monthly investments, 26 equal biweekly investments, 52 equal weekly investments, and 252 equal daily investments as the stock market has 252 trading days.\n",
    "- By default, the parameters for the DCA function are \"D\" and 24000 annual investment. "
   ]
  },
  {
   "cell_type": "code",
   "execution_count": null,
   "id": "c81dd46c-255a-481e-b9c4-87356dccf103",
   "metadata": {},
   "outputs": [],
   "source": [
    "#!pip install yfinance"
   ]
  },
  {
   "cell_type": "code",
   "execution_count": 307,
   "id": "0d339722-1544-40e7-91b9-a24ab269196d",
   "metadata": {},
   "outputs": [],
   "source": [
    "import yfinance as yf\n",
    "import pandas as pd\n",
    "import multiprocessing\n",
    "from datetime import datetime, timedelta\n",
    "from tabulate import tabulate"
   ]
  },
  {
   "cell_type": "code",
   "execution_count": 308,
   "id": "62b4b5fb-e07b-468c-b923-bdc390be25cc",
   "metadata": {},
   "outputs": [],
   "source": [
    "def refactor_table(array):\n",
    "    \"\"\"\n",
    "    this function turns the dataframe table into a 2D array with the date and price\n",
    "    \"\"\"\n",
    "    for i in range(len(array)):\n",
    "        date_str = str(array[i][0])[:10]  # Format date as 'YYYY-MM-DD'\n",
    "        price = array[i][1]\n",
    "        array[i] = [date_str, price]      # Replace entire row\n",
    "    return array"
   ]
  },
  {
   "cell_type": "code",
   "execution_count": 309,
   "id": "acd603bf-7f4b-42fe-a0bc-dfb7b08f1e1d",
   "metadata": {},
   "outputs": [],
   "source": [
    "def getMaxData(ticker):\n",
    "    \"\"\"\n",
    "    this function downloads the ticker data from yahoo finance. You can adjust the period to specific timeframes as well. \n",
    "    \"\"\"\n",
    "    ticker_dataframe = yf.download(ticker, period=\"max\")['Close']\n",
    "    ticker_array = ticker_dataframe.reset_index().to_numpy()\n",
    "    return refactor_table(ticker_array)\n"
   ]
  },
  {
   "cell_type": "code",
   "execution_count": 310,
   "id": "62b74d3e-a076-430a-8ecc-f438c67f206f",
   "metadata": {},
   "outputs": [],
   "source": [
    "def get_interval_prices(ticker, interval):\n",
    "    \"\"\"\n",
    "    this function returns a list of the prices for weekly and biweekly intervals. \n",
    "    \"\"\"\n",
    "    prices = []\n",
    "    last_date = None\n",
    "\n",
    "    for date_str, price in ticker:\n",
    "        current_date = datetime.strptime(date_str, \"%Y-%m-%d\")\n",
    "\n",
    "        if last_date is None or (current_date - last_date).days >= interval:\n",
    "            prices.append(price)\n",
    "            last_date = current_date\n",
    "    return prices"
   ]
  },
  {
   "cell_type": "code",
   "execution_count": 311,
   "id": "2a87a89b-2246-4803-93ce-822d9903985d",
   "metadata": {},
   "outputs": [],
   "source": [
    "def DCA(ticker, interval='D', investment=24000):\n",
    "    \"\"\"\n",
    "    interval options: 'D', 'W', '2W', 'M'\n",
    "    \"\"\"\n",
    "    results = {}\n",
    "    prices = []\n",
    "    stock_count = 0\n",
    "\n",
    "    # generates the prices table and defines interval investment variables\n",
    "    if interval == 'D':\n",
    "        for i in range(len(ticker)):\n",
    "            prices.append(ticker[i][1])\n",
    "        interval_investment = investment / 252\n",
    "    elif interval == 'W':\n",
    "        for i in range(0, len(ticker), 7):\n",
    "            prices = get_interval_prices(ticker, 7)\n",
    "        interval_investment = investment / 52\n",
    "    elif interval == '2W':\n",
    "        for i in range(0, len(ticker), 14):\n",
    "            prices = get_interval_prices(ticker, 14)\n",
    "        interval_investment = investment / 26\n",
    "    else:\n",
    "        seen_months = []\n",
    "        for i in range(len(ticker)):\n",
    "            year_month = ticker[i][0][0:7]\n",
    "\n",
    "            if year_month not in seen_months:\n",
    "                prices.append(ticker[i][1])\n",
    "                seen_months.append(year_month)\n",
    "        interval_investment = investment / 12\n",
    "\n",
    "    # calculates returns and portfolio value\n",
    "    for i in range(len(prices)):\n",
    "        stock_count += interval_investment / prices[i]\n",
    "\n",
    "    portfolio_value = stock_count * prices[-1]\n",
    "    portfolio_return = (portfolio_value / investment - 1) * 100\n",
    "\n",
    "    # returns results\n",
    "    results =  {\n",
    "        \"annual investment\": investment, \n",
    "        \"interval\": interval,\n",
    "        \"interval investment\": f\"${round(interval_investment, 2)}\",\n",
    "        \"portfolio value\": f\"${round(portfolio_value, 2)}\", \n",
    "        \"portfolio return\": f\"{round(portfolio_return, 2)}%\", \n",
    "    }\n",
    "\n",
    "    for k, v in results.items():\n",
    "        print(f\"{k}: {v}\")\n",
    "    "
   ]
  },
  {
   "cell_type": "code",
   "execution_count": 312,
   "id": "0332f6f5-de27-4162-8c7c-23d9406332e9",
   "metadata": {},
   "outputs": [
    {
     "name": "stderr",
     "output_type": "stream",
     "text": [
      "[*********************100%***********************]  1 of 1 completed\n"
     ]
    }
   ],
   "source": [
    "vfv = getMaxData(\"VFV.TO\")"
   ]
  },
  {
   "cell_type": "code",
   "execution_count": 313,
   "id": "902ac6fa-f3d6-47b6-ab9c-02b537dcd470",
   "metadata": {},
   "outputs": [
    {
     "name": "stdout",
     "output_type": "stream",
     "text": [
      "annual investment: 24000\n",
      "interval: D\n",
      "interval investment: $95.24\n",
      "portfolio value: $856865.0\n",
      "portfolio return: 3470.27%\n"
     ]
    }
   ],
   "source": [
    "DCA(vfv, 'D')"
   ]
  },
  {
   "cell_type": "code",
   "execution_count": 314,
   "id": "8a7d0d1d-3693-4914-b7b8-17bb1c3fe434",
   "metadata": {},
   "outputs": [
    {
     "name": "stderr",
     "output_type": "stream",
     "text": [
      "[*********************100%***********************]  1 of 1 completed\n"
     ]
    }
   ],
   "source": [
    "nvda = getMaxData(\"NVDA\")"
   ]
  },
  {
   "cell_type": "code",
   "execution_count": 315,
   "id": "a2bc5817-dbdb-450d-9016-cb5533064485",
   "metadata": {},
   "outputs": [
    {
     "name": "stdout",
     "output_type": "stream",
     "text": [
      "annual investment: 24000\n",
      "interval: 2W\n",
      "interval investment: $923.08\n",
      "portfolio value: $338874953.64\n",
      "portfolio return: 1411878.97%\n"
     ]
    }
   ],
   "source": [
    "DCA(nvda, '2W')"
   ]
  },
  {
   "cell_type": "code",
   "execution_count": 316,
   "id": "0dbabadf-eaf5-4e50-bd4e-0d753e4fe7b5",
   "metadata": {},
   "outputs": [
    {
     "name": "stderr",
     "output_type": "stream",
     "text": [
      "[*********************100%***********************]  1 of 1 completed\n"
     ]
    }
   ],
   "source": [
    "spy = getMaxData(\"SPY\")"
   ]
  },
  {
   "cell_type": "code",
   "execution_count": 318,
   "id": "a1d68b5b-9175-4396-9cfb-5a1c838b5fb5",
   "metadata": {},
   "outputs": [
    {
     "name": "stdout",
     "output_type": "stream",
     "text": [
      "annual investment: 24000\n",
      "interval: D\n",
      "interval investment: $95.24\n",
      "portfolio value: $5749930.83\n",
      "portfolio return: 23858.05%\n",
      "--------------------------------\n",
      "annual investment: 24000\n",
      "interval: W\n",
      "interval investment: $461.54\n",
      "portfolio value: $5753303.18\n",
      "portfolio return: 23872.1%\n",
      "--------------------------------\n",
      "annual investment: 24000\n",
      "interval: 2W\n",
      "interval investment: $923.08\n",
      "portfolio value: $5745905.64\n",
      "portfolio return: 23841.27%\n",
      "--------------------------------\n",
      "annual investment: 24000\n",
      "interval: M\n",
      "interval investment: $2000.0\n",
      "portfolio value: $5776872.56\n",
      "portfolio return: 23970.3%\n"
     ]
    }
   ],
   "source": [
    "DCA(spy, 'D')\n",
    "print(\"--------------------------------\")\n",
    "DCA(spy, 'W')\n",
    "print(\"--------------------------------\")\n",
    "DCA(spy, '2W')\n",
    "print(\"--------------------------------\")\n",
    "DCA(spy, 'M')\n"
   ]
  },
  {
   "cell_type": "code",
   "execution_count": null,
   "id": "8da71ace-0ff0-4c23-9b98-5e0ae9ffb7c6",
   "metadata": {},
   "outputs": [],
   "source": []
  }
 ],
 "metadata": {
  "kernelspec": {
   "display_name": "Python 3 (ipykernel)",
   "language": "python",
   "name": "python3"
  },
  "language_info": {
   "codemirror_mode": {
    "name": "ipython",
    "version": 3
   },
   "file_extension": ".py",
   "mimetype": "text/x-python",
   "name": "python",
   "nbconvert_exporter": "python",
   "pygments_lexer": "ipython3",
   "version": "3.12.5"
  }
 },
 "nbformat": 4,
 "nbformat_minor": 5
}
