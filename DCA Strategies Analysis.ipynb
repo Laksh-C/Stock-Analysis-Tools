{
 "cells": [
  {
   "cell_type": "code",
   "execution_count": null,
   "id": "0425b66d",
   "metadata": {},
   "outputs": [],
   "source": []
  },
  {
   "cell_type": "markdown",
   "id": "253a574b-ec75-4ba0-ad90-84eb4c602ef9",
   "metadata": {},
   "source": [
    "# DCA Strategies Program\n",
    "\n",
    "## Synopsis\n",
    "* This program is to see what DCA (dollar cost averaging) investing frequency yields the greatest return on various stocks.\n",
    "\n",
    "## How to use this program\n",
    "### DCA strategy\n",
    "* Remove the \"#\" in front of python```!pip install yfinance``` in the next cell and begin running the cells\n",
    "* in order to generate the data for a specific stock, define a variable using the python```getMaxData() function```\n",
    "* Enter the exact ticker name in quotations into the python```getMaxData()``` function (search up on yahoo finance if needed)\n",
    "* To analyze the data, call the python```DCA()``` function. Enter the data from the previously defined variable. There are also options to define parameters for the interval and investment.\n",
    "* The interval parameter has options for \"D\" for daily investment,  \"W\" for weekly investments, \"2W\" for biweekly investments, and \"M\" for monthly investments.\n",
    "* The investment parameter is the total annual investment you would like to make.\n",
    "\n",
    "### Sept investments\n",
    "* Historically september has always been the lowest month of the stock market. there is a function to calculate what you would've returned if you made 4 equal investments during the month of september each year. \n",
    "* to use this feature, first initialize a variable example python```vfv_sept = gette(\"VFV.TO\")```, then plug it into the function python```septInvestment(vfv_sept, \"VFV.TO\", 24000)```. \n",
    "* This function accepts 3 parameters, the first is the array initialized previously, the 2nd is the ticker name, and the third optional variable is the annual investment you want to make. By default it is $24000. \n",
    "\n",
    "### Get all Results\n",
    "* A convenient feature to get all the results for all DCA strategies and september-only investing. just call the function python```getAllResults()```. It has 2 parameters, one is the exact ticker name from yahoo finance, and the other is the annual investment amount which by default is set to $24000.\n",
    "\n",
    "- Please note that there are exactly 12 equal monthly investments, 26 equal biweekly investments, 52 equal weekly investments, and 252 equal daily investments as the stock market has 252 trading days.\n",
    "- By default, the parameters for the DCA function are \"D\" and 24000 annual investment. "
   ]
  },
  {
   "cell_type": "code",
   "execution_count": 1,
   "id": "c81dd46c-255a-481e-b9c4-87356dccf103",
   "metadata": {},
   "outputs": [],
   "source": [
    "#!pip install yfinance"
   ]
  },
  {
   "cell_type": "code",
   "execution_count": 1,
   "id": "0d339722-1544-40e7-91b9-a24ab269196d",
   "metadata": {},
   "outputs": [],
   "source": [
    "import yfinance as yf\n",
    "import pandas as pd\n",
    "import multiprocessing\n",
    "from datetime import datetime, timedelta"
   ]
  },
  {
   "cell_type": "code",
   "execution_count": null,
   "id": "62b4b5fb-e07b-468c-b923-bdc390be25cc",
   "metadata": {},
   "outputs": [],
   "source": [
    "def refactor_table(array):\n",
    "    \"\"\"\n",
    "    this function turns the dataframe table into a 2D array with the date and price\n",
    "    \"\"\"\n",
    "    for i in range(len(array)):\n",
    "        date_str = str(array[i][0])[:10]  # Format date as 'YYYY-MM-DD'\n",
    "        price = array[i][1]\n",
    "        array[i] = [date_str, price]      # Replace entire row\n",
    "    return array"
   ]
  },
  {
   "cell_type": "code",
   "execution_count": null,
   "id": "a258d480",
   "metadata": {},
   "outputs": [],
   "source": []
  },
  {
   "cell_type": "code",
   "execution_count": 3,
   "id": "acd603bf-7f4b-42fe-a0bc-dfb7b08f1e1d",
   "metadata": {},
   "outputs": [],
   "source": [
    "def getMaxData(ticker):\n",
    "    \"\"\"\n",
    "    this function downloads the ticker data from yahoo finance. You can adjust the period to specific timeframes as well. \n",
    "    \"\"\"\n",
    "    ticker_dataframe = yf.download(ticker, period=\"max\")['Close']\n",
    "    ticker_array = ticker_dataframe.reset_index().to_numpy()\n",
    "    return refactor_table(ticker_array)\n"
   ]
  },
  {
   "cell_type": "code",
   "execution_count": 4,
   "id": "62b74d3e-a076-430a-8ecc-f438c67f206f",
   "metadata": {},
   "outputs": [],
   "source": [
    "def get_interval_prices(ticker, interval):\n",
    "    \"\"\"\n",
    "    this function returns a list of the prices for weekly and biweekly intervals. \n",
    "    \"\"\"\n",
    "    prices = []\n",
    "    last_date = None\n",
    "\n",
    "    for date_str, price in ticker:\n",
    "        current_date = datetime.strptime(date_str, \"%Y-%m-%d\")\n",
    "\n",
    "        if last_date is None or (current_date - last_date).days >= interval:\n",
    "            prices.append(price)\n",
    "            last_date = current_date\n",
    "    return prices"
   ]
  },
  {
   "cell_type": "code",
   "execution_count": 5,
   "id": "2a87a89b-2246-4803-93ce-822d9903985d",
   "metadata": {},
   "outputs": [],
   "source": [
    "def DCA(ticker, interval='D', investment=24000):\n",
    "    \"\"\"\n",
    "    interval options: 'D', 'W', '2W', 'M'\n",
    "    \"\"\"\n",
    "    results = {}\n",
    "    prices = []\n",
    "    stock_count = 0\n",
    "\n",
    "    # generates the prices table and defines interval investment variables\n",
    "    if interval == 'D':\n",
    "        for i in range(len(ticker)):\n",
    "            prices.append(ticker[i][1])\n",
    "        interval_investment = investment / 252\n",
    "    elif interval == 'W':\n",
    "        for i in range(0, len(ticker), 7):\n",
    "            prices = get_interval_prices(ticker, 7)\n",
    "        interval_investment = investment / 52\n",
    "    elif interval == '2W':\n",
    "        for i in range(0, len(ticker), 14):\n",
    "            prices = get_interval_prices(ticker, 14)\n",
    "        interval_investment = investment / 26\n",
    "    else:\n",
    "        seen_months = []\n",
    "        for i in range(len(ticker)):\n",
    "            year_month = ticker[i][0][0:7]\n",
    "\n",
    "            if year_month not in seen_months:\n",
    "                prices.append(ticker[i][1])\n",
    "                seen_months.append(year_month)\n",
    "        interval_investment = investment / 12\n",
    "\n",
    "    # calculates returns and portfolio value\n",
    "    for i in range(len(prices)):\n",
    "        stock_count += interval_investment / prices[i]\n",
    "\n",
    "    portfolio_value = stock_count * prices[-1]\n",
    "    portfolio_return = (portfolio_value / investment - 1) * 100\n",
    "\n",
    "    # returns results\n",
    "    results =  {\n",
    "        \"annual investment\": investment, \n",
    "        \"interval\": interval,\n",
    "        \"interval investment\": f\"${round(interval_investment, 2)}\",\n",
    "        \"portfolio value\": f\"${round(portfolio_value, 2)}\", \n",
    "        \"portfolio return\": f\"{round(portfolio_return, 2)}%\", \n",
    "    }\n",
    "\n",
    "    for k, v in results.items():\n",
    "        print(f\"{k}: {v}\")\n",
    "    "
   ]
  },
  {
   "cell_type": "code",
   "execution_count": 21,
   "id": "95209103",
   "metadata": {},
   "outputs": [],
   "source": [
    "def getSeptData(ticker):\n",
    "    \"\"\"\n",
    "    this function returns the data for the 4 weeks of September for a given ticker\n",
    "    \"\"\"\n",
    "    ticker_dataframe = yf.download(ticker, period=\"max\")['Close']\n",
    "    ticker_array = ticker_dataframe.reset_index().to_numpy()\n",
    "    return refactorSept(ticker_array)"
   ]
  },
  {
   "cell_type": "code",
   "execution_count": 26,
   "id": "c66b402f",
   "metadata": {},
   "outputs": [],
   "source": [
    "def refactorSept(array):\n",
    "    \"\"\"\n",
    "    this function refactors the array to only include the 4 weeks of September\n",
    "    \"\"\"\n",
    "    from collections import defaultdict\n",
    "    weekly_data = defaultdict(lambda: [None, None, None, None])\n",
    "\n",
    "    for date_str, price in array:\n",
    "        date_str = str(date_str)[:10]  # Format date as 'YYYY-MM-DD'\n",
    "        date_obj = datetime.strptime(date_str, \"%Y-%m-%d\")\n",
    "\n",
    "        if date_obj.month == 9:\n",
    "            year = date_obj.year\n",
    "            day = date_obj.day\n",
    "\n",
    "            if 1 <= day <= 7:\n",
    "                week = 0\n",
    "            elif 8 <= day <= 14:\n",
    "                week = 1\n",
    "            elif 15 <= day <= 21:\n",
    "                week = 2\n",
    "            elif 22 <= day <= 28:\n",
    "                week = 3\n",
    "            else:\n",
    "                continue\n",
    "\n",
    "            if weekly_data[year][week] is None:\n",
    "                weekly_data[year][week] = price\n",
    "    return [weekly_data[year] for year in sorted(weekly_data)]"
   ]
  },
  {
   "cell_type": "code",
   "execution_count": 55,
   "id": "281e9e4c",
   "metadata": {},
   "outputs": [],
   "source": [
    "def getRecentPrice(ticker):\n",
    "    \"\"\"\n",
    "    this function returns the most recent price of a ticker\n",
    "    \"\"\"\n",
    "    ticker_dataframe = yf.download(ticker, period=\"1d\")['Close']\n",
    "    ticker_array = ticker_dataframe.reset_index().to_numpy()\n",
    "    return ticker_array[-1][1] if ticker_array.size > 0 else None"
   ]
  },
  {
   "cell_type": "code",
   "execution_count": 60,
   "id": "d146d78b",
   "metadata": {},
   "outputs": [],
   "source": [
    "def septInvestment(ticker_array, ticker, investment=24000):\n",
    "    \"\"\"\n",
    "    this function calculates the returns for a DCA strategy in September\n",
    "    \"\"\"\n",
    "    \n",
    "    interval_investment = investment / 4  # Assuming 4 weeks in September\n",
    "    stock_count = 0\n",
    "\n",
    "    for year in range(len(ticker_array)):\n",
    "        for week in range(len(ticker_array[year])):\n",
    "            week_price = ticker_array[year][week]\n",
    "            if week_price is not None:\n",
    "                stock_count += interval_investment / week_price\n",
    "\n",
    "    portfolio_value = stock_count * getRecentPrice(ticker)  # Last week's price\n",
    "    portfolio_return = (portfolio_value / investment - 1) * 100\n",
    "\n",
    "    results =  {\n",
    "        \"annual investment\": investment, \n",
    "        \"interval investment\": f\"${round(interval_investment, 2)}\",\n",
    "        \"portfolio value\": f\"${round(portfolio_value, 2)}\", \n",
    "        \"portfolio return\": f\"{round(portfolio_return, 2)}%\", \n",
    "    }\n",
    "\n",
    "    for k, v in results.items():\n",
    "        print(f\"{k}: {v}\")\n"
   ]
  },
  {
   "cell_type": "code",
   "execution_count": 80,
   "id": "27b73779",
   "metadata": {},
   "outputs": [],
   "source": [
    "def getAllResults(ticker, investment=24000):\n",
    "    \"\"\"\n",
    "    this function returns all results for a given ticker\n",
    "    \"\"\"\n",
    "    ticker_data = getMaxData(ticker)\n",
    "    sept_data = getSeptData(ticker)\n",
    "    \n",
    "    print(f\"Results for {ticker}:\")\n",
    "    print(\"-------------DAILY--------------\")\n",
    "    DCA(ticker_data, 'D', investment)\n",
    "    print(\"-------------WEEKLY-------------\")\n",
    "    DCA(ticker_data, 'W', investment)\n",
    "    print(\"-------------BIWEEKLY-----------\")\n",
    "    DCA(ticker_data, '2W', investment)\n",
    "    print(\"-------------MONTHLY------------\")\n",
    "    DCA(ticker_data, 'M', investment)\n",
    "    print(\"-------------SEPT ONLY----------\")\n",
    "    septInvestment(sept_data, ticker, investment)"
   ]
  },
  {
   "cell_type": "code",
   "execution_count": 81,
   "id": "e6c79ffe",
   "metadata": {},
   "outputs": [
    {
     "name": "stderr",
     "output_type": "stream",
     "text": [
      "[*********************100%***********************]  1 of 1 completed\n",
      "[*********************100%***********************]  1 of 1 completed\n"
     ]
    },
    {
     "name": "stdout",
     "output_type": "stream",
     "text": [
      "Results for VFV.TO:\n",
      "-------------DAILY--------------\n",
      "annual investment: 24000\n",
      "interval: D\n",
      "interval investment: $95.24\n",
      "portfolio value: $856865.01\n",
      "portfolio return: 3470.27%\n",
      "-------------WEEKLY-------------\n",
      "annual investment: 24000\n",
      "interval: W\n",
      "interval investment: $461.54\n",
      "portfolio value: $861846.35\n",
      "portfolio return: 3491.03%\n",
      "-------------BIWEEKLY-----------\n",
      "annual investment: 24000\n",
      "interval: 2W\n",
      "interval investment: $923.08\n",
      "portfolio value: $853186.96\n",
      "portfolio return: 3454.95%\n",
      "-------------MONTHLY------------\n",
      "annual investment: 24000\n",
      "interval: M\n",
      "interval investment: $2000.0\n",
      "portfolio value: $860701.57\n",
      "portfolio return: 3486.26%\n",
      "-------------SEPT ONLY----------\n"
     ]
    },
    {
     "name": "stderr",
     "output_type": "stream",
     "text": [
      "[*********************100%***********************]  1 of 1 completed"
     ]
    },
    {
     "name": "stdout",
     "output_type": "stream",
     "text": [
      "annual investment: 24000\n",
      "interval investment: $6000.0\n",
      "portfolio value: $802301.88\n",
      "portfolio return: 3242.92%\n"
     ]
    },
    {
     "name": "stderr",
     "output_type": "stream",
     "text": [
      "\n"
     ]
    }
   ],
   "source": [
    "getAllResults(\"VFV.TO\", 24000)"
   ]
  },
  {
   "cell_type": "code",
   "execution_count": null,
   "id": "5780fa53",
   "metadata": {},
   "outputs": [],
   "source": []
  }
 ],
 "metadata": {
  "kernelspec": {
   "display_name": "Python 3",
   "language": "python",
   "name": "python3"
  },
  "language_info": {
   "codemirror_mode": {
    "name": "ipython",
    "version": 3
   },
   "file_extension": ".py",
   "mimetype": "text/x-python",
   "name": "python",
   "nbconvert_exporter": "python",
   "pygments_lexer": "ipython3",
   "version": "3.12.5"
  }
 },
 "nbformat": 4,
 "nbformat_minor": 5
}
